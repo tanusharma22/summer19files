{
  "nbformat": 4,
  "nbformat_minor": 0,
  "metadata": {
    "colab": {
      "name": "task_tokenize.ipynb",
      "version": "0.3.2",
      "provenance": [],
      "collapsed_sections": [],
      "include_colab_link": true
    },
    "kernelspec": {
      "name": "python3",
      "display_name": "Python 3"
    }
  },
  "cells": [
    {
      "cell_type": "markdown",
      "metadata": {
        "id": "view-in-github",
        "colab_type": "text"
      },
      "source": [
        "<a href=\"https://colab.research.google.com/github/tanusharma22/summer19files/blob/master/task_tokenize.ipynb\" target=\"_parent\"><img src=\"https://colab.research.google.com/assets/colab-badge.svg\" alt=\"Open In Colab\"/></a>"
      ]
    },
    {
      "cell_type": "code",
      "metadata": {
        "id": "fbzmBcko_fV-",
        "colab_type": "code",
        "colab": {}
      },
      "source": [
        "import requests"
      ],
      "execution_count": 0,
      "outputs": []
    },
    {
      "cell_type": "code",
      "metadata": {
        "id": "lDxypEofAArD",
        "colab_type": "code",
        "colab": {}
      },
      "source": [
        "#scraping the data from toi website \n",
        "data=requests.get(\"https://timesofindia.indiatimes.com/home/headlines\")"
      ],
      "execution_count": 0,
      "outputs": []
    },
    {
      "cell_type": "code",
      "metadata": {
        "id": "6zgtpLx3Aams",
        "colab_type": "code",
        "colab": {}
      },
      "source": [
        "#getting text in file\n",
        "acdata=data.text\n"
      ],
      "execution_count": 0,
      "outputs": []
    },
    {
      "cell_type": "code",
      "metadata": {
        "id": "P7N4y69UAtdt",
        "colab_type": "code",
        "colab": {}
      },
      "source": [
        "#importing beautifulsoup\n",
        "from bs4 import BeautifulSoup"
      ],
      "execution_count": 0,
      "outputs": []
    },
    {
      "cell_type": "code",
      "metadata": {
        "id": "tyOpP1ppFy93",
        "colab_type": "code",
        "colab": {}
      },
      "source": [
        "#getting all the required text/info\n",
        "soup=BeautifulSoup(acdata,'html5lib')"
      ],
      "execution_count": 0,
      "outputs": []
    },
    {
      "cell_type": "code",
      "metadata": {
        "id": "vnYy5InZF5fT",
        "colab_type": "code",
        "colab": {}
      },
      "source": [
        "clean_data=soup.get_text()"
      ],
      "execution_count": 0,
      "outputs": []
    },
    {
      "cell_type": "code",
      "metadata": {
        "id": "HyQpo65PHKVY",
        "colab_type": "code",
        "colab": {
          "base_uri": "https://localhost:8080/",
          "height": 54
        },
        "outputId": "1614134f-487d-426a-d2d6-e38eb599cea4"
      },
      "source": [
        "clean_data"
      ],
      "execution_count": 48,
      "outputs": [
        {
          "output_type": "execute_result",
          "data": {
            "text/plain": [
              "'\\n.top-newslist li, .newslisting li { border-style:dotted; }\\n.more-link { float:right; margin-top:7px; color:#b9b9b9; }\\n.more-link:after { border-color:#b9b9b9; }\\nNews - Today\\'s News Headlines, Breaking News and Live News from India and World | Times of India\\n\\tvar page = false;\\n    \\n    \\n    \\n\\t\\n        (function(i,s,o,g,r,a,m){i[\\'GoogleAnalyticsObject\\']=r;i[r]=i[r]||function(){\\n          (i[r].q=i[r].q||[]).push(arguments)},i[r].l=1*new Date();a=s.createElement(o),\\n          m=s.getElementsByTagName(o)[0];a.async=1;a.src=g;m.parentNode.insertBefore(a,m)\\n          })(window,document,\\'script\\',\\'//www.google-analytics.com/analytics.js\\',\\'ga\\');\\n          \\n          \\n          \\n                \\n                \\n            ga(\\'create\\', \\'UA-198011-4\\', \\'auto\\', {\\'allowLinker\\': true});\\n            ga(\\'require\\', \\'GTM-54ZCD8R\\');\\n            var __ssoid = document.cookie.match(/(?:\\\\s)?ssoid=(\\\\w+);?/);\\n            var __prc = document.cookie.match(/(?:\\\\s)?prc=(\\\\w+);?/);\\n            if(!!(__ssoid)) {\\n                ga(\\'set\\', \\'userId\\', __ssoid[1]);\\n            }\\n            ga(\\'set\\', \\'dimension10\\', ((__prc && __prc[1]) ? __prc[1] : 0)); \\n            ga(\\'require\\', \\'linker\\');\\n            ga(\\'linker:autoLink\\', [\\'timesofindia.com\\', \\'gocricket.com\\'] );\\n            ga(\\'require\\', \\'displayfeatures\\');\\n                \\n              \\n          ga(\\'set\\', \\'dimension9\\', \\'section_listing\\');\\n          \\n    \\n        if (window.TimesGDPR && TimesGDPR.common.consentModule.gdprCallback){\\n            TimesGDPR.common.consentModule.gdprCallback(function(dataObj){\\n                if (dataObj.isEUuser){\\n                    ga(\\'set\\', \\'anonymizeIp\\', true); \\n                }\\n                \\n                \\n                    ga(\\'send\\', \\'pageview\\');\\n                \\n                \\n            });\\n        }else{\\n            /*\\n            *geo ip call failed\\n            * show EU \\n            */\\n            ga(\\'set\\', \\'anonymizeIp\\', true);\\n            \\n            \\n                ga(\\'send\\', \\'pageview\\');\\n            \\n            \\n        }\\n        var _gaq = Object();\\n        _gaq.push = function(ob){\\n        \\ttry{\\n        \\t    if(ob[0]==\"_trackPageview\"){\\n        \\t    \\n                \\n                    ga(\\'send\\', \\'pageview\\', ob[1]?ob[1]:undefined);\\n                \\n                \\n        \\t    }else if(ob[5]){\\n        \\t        ga(\\'send\\', \\'event\\', ob[1]?ob[1]:undefined, ob[2]?ob[2]:undefined, ob[3]?ob[3]:undefined, {\\'nonInteraction\\': 1});\\n        \\t    }else{\\n        \\t        ga(\\'send\\', \\'event\\', ob[1]?ob[1]:undefined, ob[2]?ob[2]:undefined, ob[3]?ob[3]:undefined, ob[4]?ob[4]:undefined, ob[5]?ob[5]:undefined);\\n        \\t    }\\n        \\t}catch(e){}\\n        };\\n        //-- Begin comScore Tag --\\n        \\n         window._comscore = window._comscore || [];\\n        if (window.TimesGDPR  && TimesGDPR.common.consentModule.gdprCallback){\\n            TimesGDPR.common.consentModule.gdprCallback(function(dataObj){\\n                var objComScore = { c1: \"2\", c2: \"6036484\" }\\n                if (dataObj.isEUuser){\\n                    objComScore[\\'cs_ucfr\\'] = 0;\\n                }\\n                window._comscore.push(objComScore);\\n                function fireComscore(){\\n                    (function() {\\n            \\t\\t    var s = document.createElement(\"script\"), el = document.getElementsByTagName(\"script\")[0]; s.async = true;\\n            \\t\\t    s.src = (document.location.protocol == \"https:\" ? \"https://sb\" : \"http://b\") + \".scorecardresearch.com/beacon.js\";\\n            \\t\\t    el.parentNode.insertBefore(s, el);\\n        \\t\\t    })();\\n        \\t\\t}\\n        \\t\\twindow.fireComscore = fireComscore;\\n        \\t\\tfireComscore();\\n        \\t\\ttoiprops = window.toiprops || {};\\n                toiprops.comscoreParams = objComScore;\\n            });\\n        }\\n        else\\n        {\\n            window._comscore = window._comscore || [];\\n            function fireComscore(){\\n    \\t\\t  window._comscore.push({ c1: \"2\", c2: \"6036484\", \\'cs_ucfr\\': 0 });\\n    \\t\\t  (function() {\\n    \\t\\t    var s = document.createElement(\"script\"), el = document.getElementsByTagName(\"script\")[0]; s.async = true;\\n    \\t\\t    s.src = (document.location.protocol == \"https:\" ? \"https://sb\" : \"http://b\") + \".scorecardresearch.com/beacon.js\";\\n    \\t\\t    el.parentNode.insertBefore(s, el);\\n    \\t\\t  })();\\n    \\t\\t}\\n    \\t\\tfireComscore();\\n    \\t\\ttoiprops = window.toiprops || {};\\n            toiprops.comscoreParams = { c1: \"2\", c2: \"6036484\", \\'cs_ucfr\\': 0 };\\n        }\\n        //-- End comScore Tag --\\n        \\n        \\n\\t    \\n        \\t\\t    \\n        \\t\\t    (function(doc) {\\n                        var viewport = document.getElementById(\\'viewport\\');\\n                         if ( navigator.userAgent.match(/iPad/i) ) {\\n                            viewport.setAttribute(\"content\", \"initial-scale=1.0\");\\n                        }\\n                    }(document));\\n                    var hdomain=\\'indiatimes.com\\';\\n                    if (document.domain != hdomain)\\n                    {if ((document.domain.indexOf(hdomain)) != -1)\\n                    {document.domain = hdomain}}                \\n        \\t\\t \\n        \\t\\t\\n    \\t    toiprops = window.toiprops || {};\\n    \\t    toiprops.imgdomain = \\'https://static.toiimg.com\\';\\n    \\t    \\n            toiprops.seoLocation = \\'\\';\\n            toiprops._SCN_pg = (toiprops._SCN_pg)?toiprops._SCN_pg:\\'Default\\';\\n        \\ttoiprops.useSSL = \\'https:\\' == document.location.protocol;\\n        \\ttoiprops.bot=/bot|googlebot|crawler|spider|robot|crawling/i.test(navigator.userAgent)\\n            toiprops._Tmpl_pg = \\'articlelist\\';\\n\\t\\t\\tvar secname = \\'\\' || \"\";\\n            var agename=\\'\\' || \"\";\\n            \\n            var chartbeatObj = {\\n                uid:10538,\\n                domain:\"timesofindia.indiatimes.com\",\\n                sections: secname,\\n                authors: agename\\n            }\\n\\t\\t\\twindow._sf_async_config = window._sf_async_config || {};\\n\\t\\t\\twindow._sf_async_config.autoDetect = false;\\n\\t\\t\\twindow._sf_async_config.uid = window._sf_async_config.uid || chartbeatObj.uid;\\n\\t\\t\\twindow._sf_async_config.domain = window._sf_async_config.domain || chartbeatObj.domain;\\n\\t\\t\\twindow._sf_async_config.sections = window._sf_async_config.sections || chartbeatObj.sections;\\n\\t\\t\\twindow._sf_async_config.authors = window._sf_async_config.authors || chartbeatObj.authors;\\n\\n            window._sf_endpt=(new Date()).getTime();\\n\\t\\t\\t\\n\\t\\t\\n.top-newslist li, .newslisting li { border-style:dotted; }\\n.more-link { float:right; margin-top:7px; color:#b9b9b9; }\\n.more-link:after { border-color:#b9b9b9; }\\n+Wed, Jul 03, 2019 | Updated 10.45PM ISTHI, Edit ProfileMy TimesRedeemLOGOUTSign InNotification CenterVideosTopTrendingEntertainmentTOI OriginalsIndiaAmazing but trueVote-19Times propertyHumourCityInternationalSportsBusinessHealthTVLifestyleBeauty PageantsFilmfareFoodTechAutoMusicmotion graphicsEventsRegionalCityMetro CitiesMumbaiDelhiBengaluruHyderabadKolkataChennaiOther CitiesAgartalaAgraAjmerAmaravatiAhmedabadAllahabadAmritsarAurangabadBareillyBhopalBhubaneswarChandigarhCoimbatoreCuttackDehradunErodeFaridabadGhaziabadGoaGurgaonGuwahatiHubballiImphalIndoreItanagarJaipurJammuJamshedpurJodhpurKanpurKochiKohimaKolhapurKozhikodeLucknowLudhianaMaduraiMangaloreMeerutMysoreNagpurNashikNavi MumbaiNoidaPatnaPuducherryPuneRaipurRajkotRanchiSrinagarSalemShillongShimlaSuratThaneTrichyThiruvananthapuramUdaipurVadodaraVaranasiVijayawadaVisakhapatnamIndiaMaharashtraDelhiKarnatakaTamil NaduTelanganaUttar PradeshWest BengalGujaratMadhya PradeshBiharChandigarhRajasthanArunachal PradeshAndhra PradeshAssamChhattisgarhGoaHaryanaHimachal PradeshJammu and KashmirJharkhandKeralaManipurMeghalayaMizoramNagalandOdishaPunjabSikkimTripuraUttarakhandAndaman and Nicobar IslandsDadra and Nagar HaveliDaman and DiuLakshadweepPondicherryWC 2019WorldWorldUSPakistanSouth AsiaUKEuropeChinaMiddle EastRest of WorldMad, Mad WorldPhotosVideosFOLLOW WORLD Budget 2019TechGadgets NewsTech NewsGadgetsReviewsTop GadgetsSlideshowsVideosHow toFeaturedFOLLOW TECHNOLOGY     CricketSportsSportsICC WC 2019CricketFantasy CricketTennisFootballHockeyBoxingAthleticsGolfRacingWrestlingCyclingSnooker/BilliardsShootingChessOthersFOLLOW SPORTS  EntertainmentEntertainmentHindiEnglishTamilTeluguMalayalamKannadaBengaliPunjabiMarathiBhojpuriGujaratiNetflixMovie ReviewsMusicBeauty PageantsPhotosVideosFOLLOW ENTERTAINMENT    TVTVTV NewsTrade NewsSpecialsPhotosVideosHindiEnglishTamilTeluguMalayalamKannadaMarathiBengaliGujaratiWeb SeriesNetflixMX PlayerLife & StyleLife & StyleRelationshipsHealth & FitnessParentingBeautySpotlightRecipesFood NewsTravelBooksHome & GardenFashionEventsPhotosVideosFOLLOW LIFE & STYLE  BlogsPhotosPhotosMoviesCelebsFashionBeauty PageantsAwardsEventsTVSportsGadgetsNewsFOLLOW PHOTOS   Live TVEducationEducationBoard ExamsEntrance ExamsExams Result NewsAdmission NewsJobsCBSEAll Sections\\n            <ul>\\n                {{for items}}\\n                <li data-id=\"{{:catkey}}\">\\n                    <a href=\"{{:link}}\">\\n                        {{:section}}\\n                    </a>   \\n                </li>\\n                {{/for}}\\n            </ul>\\n        \\n            {{for lists}}\\n                <h4 class=\"list-title\">{{:title}}</h4>\\n                <ul>\\n                    {{for items}}\\n                        <li data-id=\"{{:catkey}}\">\\n                            <a href=\"{{:link}}\">\\n                                {{:section}}\\n                            </a>\\n                        </li>\\n                    {{/for}}\\n                </ul>\\n            {{/for}}\\n        \\n            {{if items.length}}\\n                <ul {{if items[activeIndex].className}}class=\"gallery {{:items[activeIndex].className}}\"{{/if}} {{if items[activeIndex].catkey == \\'gadgets\\'}}class=\"links-list\"{{/if}}>\\n                    {{for items[activeIndex].stories ~class=items[activeIndex].className ~domain=items[activeIndex].domain}}\\n                        <li {{if !imageurl}}class=\"no-img\"{{/if}}>\\n                            <a href=\"{{if ~domain}}{{:~domain}}{{/if}}{{:link}}\" title=\"{{:title}}>\\n                                {{if ((#index === 0) || (~class === \\'videos\\') || (~class === \\'photos\\'))}}\\n                                <img data-src=\"{{:imageurl}}\" src=\"https://static.toiimg.com/photo/34824568.cms\" alt=\"{{:title}}\" />\\n                                {{/if}}\\n                                {{if !~class}}\\n                                    <span>{{:trimmedtitle}}</span>\\n                                {{/if}}\\n                            </a>   \\n                            {{if ~class}}\\n                                <a href=\"{{if ~domain}}{{:~domain}}{{/if}}{{:link}}\">{{:title}}</a>\\n                            {{/if}}\\n                        </li>\\n                    {{/for}}\\n                </ul>\\n            {{/if}}\\n        \\n            <ul {{if className}}class=\"gallery {{:className}}\"{{/if}} {{if catkey == \\'gadgets\\'}}class=\"links-list\"{{/if}}>\\n                {{for stories ~class=className ~domain=domain}}\\n                    <li {{if !imageurl}}class=\"no-img\"{{/if}}>\\n                        <a href=\"{{if ~domain}}{{:~domain}}{{/if}}{{:link}}\" title=\"{{:title}}\" pg=\"{{:pg}}\">\\n                            {{if (imageurl) && ((#index === 0) || (~class === \\'videos\\') || (~class === \\'photos\\'))}}\\n                                <img data-src=\"{{:imageurl}}\" src=\"https://static.toiimg.com/photo/34824568.cms\" alt=\"{{:title}}\" pg=\"{{:pg}}\"/>\\n                            {{/if}}\\n                            {{if !~class}}\\n                                <span>\\n                                    {{if (trimmedtitle)}}\\n                                        <span>{{:trimmedtitle}}</span>\\n                                    {{else}}\\n                                        <span>{{:title}}</span>\\n                                    {{/if}}\\n                                </span>\\n                            {{/if}}\\n                            \\n                        </a>   \\n                        {{if ~class}}\\n                            <a href=\"{{if ~domain}}{{:~domain}}{{/if}}{{:link}}\" pg=\"{{:pg}}\">\\n                                {{if (trimmedtitle)}}\\n                                    <span>{{:trimmedtitle}}</span>\\n                                {{else}}\\n                                    <span>{{:title}}</span>\\n                                {{/if}}\\n                            </a>\\n                        {{/if}}\\n                    </li>\\n                {{/for}}\\n            </ul>\\n        \\n            {{{html}}}\\n        \\n            <div class=\"error-msg\">Something went wrong. Click here to view <a href=\"{{:link}}\">{{:title}}</a>.</div>\\n         +   - GEO Location\\n    \\n        \\n            News\\n                \\n             / \\n            Headlines\\n                \\n             \\n        \\n    \\nNews HeadlinesRahul still our leader, say Congmen; BJP calls resignation \\'new drama\\'3 Jul 2019, 2206 hrs IST\\'Enough verbal diarrhoea\\': Jadeja slams Manjrekar3 Jul 2019, 2051 hrs ISTRenaming West Bengal: Mamata writes to PM Modi3 Jul 2019, 2015 hrs ISTWC Live: Latham falls, New Zealand in trouble3 Jul 2019, 2245 hrs ISTRahul quits as Cong chief, owns up to LS loss3 Jul 2019, 2141 hrs ISTBudget 2019: The biggest challenges facing FM3 Jul 2019, 2121 hrs IST23 feared dead after dam breach in Maharashtra3 Jul 2019, 2205 hrs ISTDhoni may quit after India\\'s last WC match3 Jul 2019, 1730 hrs ISTFB, Instagram and WhatsApp users report issues3 Jul 2019, 2028 hrs ISTFull text of Rahul Gandhi\\'s resignation letter3 Jul 2019, 2207 hrs ISTLesser known facts about Ambati Rayudu3 Jul 2019, 2222 hrs ISTReliance Jio is making an \\'international call\\'3 Jul 2019, 0859 hrs ISTPakistan books Hafiz Saeed for terror financing3 Jul 2019, 2238 hrs ISTPodcast: How exports-led growth can create jobs3 Jul 2019, 0911 hrs ISTVaravara taken into custody in Naxal attack case3 Jul 2019, 2039 hrs IST\\'AI lost Rs 491 cr due to closure of Pak airspace\\'3 Jul 2019, 2047 hrs IST#MenToo: Karan on \\'Rishton Ka Vyapaar\\' song3 Jul 2019, 0100 hrs ISTCommuting woes in Mumbai as rains subside3 Jul 2019, 1849 hrs ISTMETRO CITIESMumbai\\n                MORE \\n                Mumbai NEWS\\n                Mumbai: Man steals car of app-based cab service3 Jul 2019, 21:57Mum: 2 held for betting on India-B\\'desh WC tie3 Jul 2019, 21:13Malad subway: Two die of suffocation in SUV3 Jul 2019, 11:00Thane real estate agent found dead in car3 Jul 2019, 18:05MSRTC to slash Shivneri AC bus fares by Rs 803 Jul 2019, 15:5075 flights cancelled at Mumbai airport3 Jul 2019, 16:14Mumbai slowly returns to normalcy but commuting woes continue3 Jul 2019, 18:49Mumbai: Woman delivers baby boy at Dombivli railway station3 Jul 2019, 14:08Death toll rises to 24 in Malad wall collapse3 Jul 2019, 12:35Wall collapse in Mumbai\\'s Malad: Death toll mounts to 243 Jul 2019, 12:18High tide expected in Mumbai at 12 noon, likely to aggravate waterlogging woes3 Jul 2019, 10:41Mumbai limps back to normalcy as rains subside3 Jul 2019, 10:23Dawood Ibrahim aide held for forgery in getting MCA membership3 Jul 2019, 10:15NCP suggests linking Voter ID to Aadhaar, Devendra Fadnavis agrees3 Jul 2019, 10:14Mumbai: Road to school in Chandivli caves in after heavy rain3 Jul 2019, 10:12Mumbai: Rs 235 crore spent on Lower Tapi \\'not fruitful\\'3 Jul 2019, 10:08Madrassa grants in free fall3 Jul 2019, 10:07Tiger reserves in Maharashtra impacted by tourism facilities3 Jul 2019, 10:06Delhi\\n                MORE \\n                Delhi NEWS\\n                UG courses: DU\\'s second cut-off list on July 43 Jul 2019, 22:36Hauz Qazi: Vijay Goel, AAP minister trade barbs3 Jul 2019, 20:19Mukhtar Ansari acquitted in 2005 murder case3 Jul 2019, 20:07\\'Rs 2K-scam\\': Sisodia sends notice to Tiwari3 Jul 2019, 21:39Man falsely reports wife\\'s rape, murder; held3 Jul 2019, 22:289 buildings found dangerous in north Delhi by NDMC3 Jul 2019, 22:24Man arrested for duping people after posing as senior bureaucrat3 Jul 2019, 21:55As eyewitnesses turn hostile, Delhi court acquits Mukhtar Ansari in 2005 murder case of UP BJP leader3 Jul 2019, 20:07Man arrested for supplying arms in west Delhi3 Jul 2019, 19:49Delhi government suspends remedial classes for class 10 and 12 in its schools due to heat wave3 Jul 2019, 18:59AAP supporters protest outside residence of Delhi BJP chief Manoj Tiwari3 Jul 2019, 17:50153 children died of Acute Encephalitis Syndrome in Bihar: Government to Rajya Sabha3 Jul 2019, 17:52Temple vandalism: Does BJP not care about sentiments of majority, asks Congress3 Jul 2019, 19:06Amit Shah reprimands Delhi Police chief over Hauz Qazi clashes3 Jul 2019, 13:43PIL in Delhi court seeking SIT probe in Chandni Chowk temple desecration3 Jul 2019, 12:10Manager of private bank held for cheating3 Jul 2019, 10:05Delhi: 25 guesthouses get closure notice3 Jul 2019, 10:02St Stephen\\'s new cutoff for Christian STs3 Jul 2019, 09:14Bengaluru\\n                MORE \\n                Bengaluru NEWS\\n                Smuggled foreign cigarettes worth Rs 2cr seized3 Jul 2019, 20:07Olive ridley turtle rescued in Karnataka3 Jul 2019, 19:36Konkan Railway stations set to get ‘water ATMs’3 Jul 2019, 19:11BBMP wants to concretise MG Rd among 95 roads3 Jul 2019, 11:02WHO recognizes Manipal Poison Detection Centre3 Jul 2019, 17:3211 killed in Karnataka road mishap3 Jul 2019, 14:35Karnataka: How a people’s barrage saves water, improves farmers’ lives3 Jul 2019, 12:41Bengaluru celebrates the spirit of pride3 Jul 2019, 11:14Illegal temples have no place on roads, in parks: Karnataka high court3 Jul 2019, 10:57Double whammy of delayed monsoon and rising seed prices rattles farmers3 Jul 2019, 10:49In maiden speech, Mandya MP Sumalatha Ambareesh slams Karnataka govt3 Jul 2019, 10:21Students worried as KEA stalls admission process3 Jul 2019, 09:10Bengaluru: KMIO points to blood shortage; govt says all’s well3 Jul 2019, 09:06Congress leaders in firefighting mode; warn rebels, lash out at rival BJP3 Jul 2019, 07:00Bengaluru: Woman, baby fall to death from seventh floor3 Jul 2019, 10:29Desi GPS on cellphones? Isro in talks with 2 big chipmakers3 Jul 2019, 12:59Fake currency worth Rs 3.1 crore seized in K’taka in 3.5 years: MHA3 Jul 2019, 11:10Wet runways: Flight diversions from Mumbai spark chaos at KIA3 Jul 2019, 09:22Hyderabad\\n                MORE \\n                Hyderabad NEWS\\n                Hyd police, DRI seize gold worth Rs 2.17 crore3 Jul 2019, 15:44Will complete rly projects in two years: DRM3 Jul 2019, 18:15AP: Kharif season gets an extn due dry Godavari3 Jul 2019, 09:11Smart card backlog: T\\'gana min seeks printers3 Jul 2019, 06:13AP: 2 held for sexually exploiting minor girl3 Jul 2019, 05:59Engineering fee tussle: Telangana HC dismisses state appeal, leaves matters to AFRC3 Jul 2019, 22:36Telangana HC okays 1857 forest beat officers3 Jul 2019, 21:35NRI dies during adventurous sport at Hyderabad resort3 Jul 2019, 15:46Marine fish landings decline in Andhra Pradesh in last five years3 Jul 2019, 13:42Nobody could pull off Oh Baby better than Sam and Nandini Reddy: Producer Sunitha3 Jul 2019, 10:50Apoorva and Anupam’s wedding reception was a lavish affair3 Jul 2019, 10:40Four maestros, one stage and a mesmerising evening3 Jul 2019, 10:35Uyyalawada Narasimha Reddy kin demand compensation for Sye Raa3 Jul 2019, 10:31IIT-Hyderabad student hangs himself in hostel; second suicide this year3 Jul 2019, 12:35Hyderabad: 1 dead in explosion at GVK BIO plant3 Jul 2019, 06:223 foresters beaten up by podu cultivators in Bhadradri district3 Jul 2019, 08:48School fee hike: BJYM holds protest3 Jul 2019, 08:51HC to Telangana: Bring cheques of Vemulaghat oustees to court3 Jul 2019, 09:00Chennai\\n                MORE \\n                Chennai NEWS\\n                Avoid using caste names of politicians: DMK MP3 Jul 2019, 19:20Anti-tobacco activists give demands\\' list to DGP3 Jul 2019, 18:31Tanuvas 2019: Dharmapuri girl tops vet merit list3 Jul 2019, 18:024 youths held for selling ganja in Puducherry3 Jul 2019, 17:24Release anti-liquor activist Nandhini: CPM to TN3 Jul 2019, 16:37Tamil Nadu govt won’t allow hydrocarbon exploration in Cauvery delta, minister says3 Jul 2019, 15:53Tamil Nadu information commission is sluggish, NGO alleges3 Jul 2019, 12:49\\'Painted Ladies\\' swarm all over Chennai3 Jul 2019, 11:16Chennai: Peers help students to deal with cyberbullying3 Jul 2019, 10:13Chennai musician to build school for kids displaced by floods3 Jul 2019, 09:36Chennai: Met predicts hotter days, cloudy skies3 Jul 2019, 08:54Tamil Nadu MLAs leave House early to watch India match3 Jul 2019, 09:19Tamil Nadu mulls all-party meet on 10% quota3 Jul 2019, 06:51Tejas aircraft drops fuel tank on Tamil Nadu field3 Jul 2019, 06:24Mylapore residents find sewage in their Metrowater sumps3 Jul 2019, 08:00Man in burqa tries to break open Velachery ATM, held3 Jul 2019, 09:05Tamil filmmaker to document Cooum river3 Jul 2019, 09:11Rain water harvesting: Corporation to co-ordinate with residents association3 Jul 2019, 08:04Ahmedabad\\n                MORE \\n                Ahmedabad NEWS\\n                3 lakh crore of Vibrant pledges realized: CM3 Jul 2019, 09:21Gujarat: 30,000 MW of green power by 20223 Jul 2019, 09:54Amdavadis fined Rs 61 crore in e-memos3 Jul 2019, 11:08Vadodara: 2,100 cops to stand guard for Yatra3 Jul 2019, 10:10\\'Affair behind 90% cases of kids leaving homes\\'3 Jul 2019, 06:46Gujarat assembly passes bill to ban e-cigarettes and related products3 Jul 2019, 16:21For water security, where there is a well, there is a way3 Jul 2019, 12:40Rath Yatra: Jumbos’ count goes down3 Jul 2019, 10:07Entry to UG medical courses to be tougher3 Jul 2019, 09:57Gujarat: Hikes in duty on captive power, stamp duty3 Jul 2019, 09:50SG Highway six-laning gets Rs 867 crore boost3 Jul 2019, 09:43‘Vahli Dikri Yojana’ launched to save Gujarat’s daughters3 Jul 2019, 09:35Light showers kiss Ahmedabad3 Jul 2019, 09:15Central Gujarat witnesses most religious conversions3 Jul 2019, 08:07Gujarat teens run away to Mumbai, forced to return due to heavy rain3 Jul 2019, 09:2976% of e-challan fines remained unpaid: CM Vijay Rupani3 Jul 2019, 05:45Water, water everywhere in Gujarat budget3 Jul 2019, 05:54Gujarat: 13 held for prohibition violations every hour3 Jul 2019, 05:35videos\\'Govt plotted jailbreak\\'00:40Jitendra Singh slams Farooq02:42Punjab jailbreak: 1 killed01:42Gold loot caught on CCTV00:44190 Kashmiris join Army01:27\\'Note ban for political gains\\'02:22Delhi: Crackers\\'\\xa0sale banned00:25Minister hurls abuses at cops00:34Couple got married in Rs 50001:38Police seize Rs 1.15 crore cash01:32XBUSINESS NEWSIndia BusinessBritish Airways London-Bengaluru flight flies back to Heathrow after snag3 Jul 2019, 2204 hrs ISTEconomic Survey to chart out reform road map of Modi 2.0 govt3 Jul 2019, 2202 hrs ISTBiz to declare mismatch in GST returns form, outward supplies in annual returns: FinMin3 Jul 2019, 2132 hrs ISTRBI to regulate housing finance firms, review assets: Report3 Jul 2019, 2127 hrs ISTJio rolls out digital literacy initiative for first-time internet users3 Jul 2019, 2112 hrs IST\\n                MORE \\n                India Business NEWS\\n                International BusinessFrench police raid Renault HQ over Carlos Ghosn wedding probe3 Jul 2019, 1813 hrs IST\\'Difficulties on the road to AI\\': Man pours water on Baidu chief at conference3 Jul 2019, 2124 hrs ISTFormer Chrysler CEO Lee Iacocca has died at age 943 Jul 2019, 0831 hrs ISTSaudi Aramco to restart IPO process3 Jul 2019, 1516 hrs ISTChristine Lagarde set to succeed ECB’s Draghi3 Jul 2019, 1327 hrs IST\\n                MORE \\n                International Business NEWS\\n                WORLD NEWSUSTanks roll in US capital for Donald Trump\\'s July 4 parade3 Jul 2019, 2252 hrs ISTTrump orders tanks for July 4 Independence Day parade, critics call it political ploy3 Jul 2019, 2124 hrs ISTDonald Trump accuses China, Europe of currency manipulation, stimulus3 Jul 2019, 2032 hrs IST\\n                MORE \\n                US NEWS\\n                PakistanPakistan books Hafiz Saeed for terror financing3 Jul 2019, 2238 hrs ISTPakistan announces terrorism finance crackdown on LeT3 Jul 2019, 2059 hrs ISTPak PM Imran Khan owns assets worth more than Rs 10 crore3 Jul 2019, 1828 hrs IST\\n                MORE \\n                Pakistan NEWS\\n                South AsiaUN chief Antonio Guterres expresses outrage at Kabul bomb attack3 Jul 2019, 2020 hrs ISTSri Lanka tourism limps back after bombings, figures show3 Jul 2019, 1837 hrs ISTBangladesh court sentences 9 to death for attacking PM Sheikh Hasina 25 years ago3 Jul 2019, 1425 hrs IST\\n                MORE \\n                South Asia NEWS\\n                UKChina tells UK to \\'refrain\\' from Hong Kong \\'interference\\'3 Jul 2019, 2237 hrs ISTUK\\'s Boris Johnson backs Hong Kong protesters \\'every inch of way\\'3 Jul 2019, 2106 hrs ISTUK court discharges PIO couple accused of plotting adopted son’s murder for insurance2 Jul 2019, 2355 hrs IST\\n                MORE \\n                UK NEWS\\n                EuropeRussian President Vladimir Putin formally suspends INF treaty3 Jul 2019, 2049 hrs ISTBrexit Party MEPs turn their backs on EU anthem3 Jul 2019, 0933 hrs ISTLast month hottest June on record: EU satellite agency3 Jul 2019, 0758 hrs IST\\n                MORE \\n                Europe NEWS\\n                ChinaChina tells UK to \\'refrain\\' from Hong Kong \\'interference\\'3 Jul 2019, 2236 hrs ISTMan pours water on Baidu CEO at AI conference3 Jul 2019, 1200 hrs ISTDalai Lama apologises for \\'attractive woman successor\\' remark3 Jul 2019, 1044 hrs IST\\n                MORE \\n                China NEWS\\n                Middle EastIsraeli company apologises for putting Mahatma Gandhi\\'s image on its liquor bottles3 Jul 2019, 1621 hrs ISTIran to exceed uranium enrichment limit from Sunday: Hassan Rouhani3 Jul 2019, 1506 hrs ISTIran marks 1988 US downing of passenger jet3 Jul 2019, 1136 hrs IST\\n                MORE \\n                Middle East NEWS\\n                Rest of WorldUnhappy returns: Imelda Marcos\\' 90th birthday bash ruined as 261 hospitalised3 Jul 2019, 1759 hrs ISTFox crosses Arctic to reach Canada from Norway in record time3 Jul 2019, 1716 hrs ISTAirstrike hits Libyan detention center, killing 44 migrants3 Jul 2019, 1647 hrs IST\\n                MORE \\n                Rest of World NEWS\\n                SPORTS NEWSFootballPalestinian FA postpones cup final after Israel denies travel3 Jul 2019, 2157 hrs ISTEast Bengal sign Delhi Dynamos defender Marti Crespi3 Jul 2019, 2155 hrs ISTMan City pay Atletico midfielder Rodri\\'s buyout clause3 Jul 2019, 2152 hrs IST\\n                MORE \\n                Football NEWS\\n                TennisWimbledon 2019: Next big thing Opelka blasts past Wawrinka into third round3 Jul 2019, 2017 hrs ISTWimbledon 2019: Pliskova on the fast lane to success against Puig3 Jul 2019, 2004 hrs ISTAndy Murray and Serena Williams learn first round Wimbledon opponents3 Jul 2019, 1840 hrs IST\\n                MORE \\n                Tennis NEWS\\n                HockeyHockey India name 33 players for junior men\\'s national camp30 Jun 2019, 1512 hrs ISTHosts Chhattisgarh to face Hockey HIM in Sub-Junior National semis29 Jun 2019, 2231 hrs ISTHockey legend Balbir Singh Senior admitted again to hospital following ill health26 Jun 2019, 2233 hrs IST\\n                MORE \\n                Hockey NEWS\\n                GolfAtwal wins qualifier to join Lahiri in 3M Open main draw3 Jul 2019, 2105 hrs ISTGolf Clubs fail to arrive in time as Shiv Kapur tries to qualify for Open2 Jul 2019, 2158 hrs ISTBhullar finishes 13th in Spain, Bezuidenhout wins title1 Jul 2019, 1820 hrs IST\\n                MORE \\n                Golf NEWS\\n                RacingF1 says Kubica\\'s \\'Driver of the Day\\' award was an error2 Jul 2019, 2111 hrs ISTJehan shines at Austrian Grand Prix, wins second place in F3 race1 Jul 2019, 2134 hrs ISTVerstappen reconciles with Leclerc, says win is right for the sport1 Jul 2019, 1833 hrs IST\\n                MORE \\n                Racing NEWS\\n                BadmintonCanada Open: Ajay Jayaram, Sourabh Verma and Lakshya Sen enter second round3 Jul 2019, 1217 hrs ISTNagpur set up title clash against Pune2 Jul 2019, 2357 hrs ISTMaharashtra Junior Badminton: Nagpur, Thane, Pune, Mumbai teams enter quarterfinals2 Jul 2019, 0019 hrs IST\\n                MORE \\n                Badminton NEWS\\n                More sportsKudla girl to take part in Muay Thai world championship3 Jul 2019, 1435 hrs ISTNADA testing: Top performers go missing from national camps3 Jul 2019, 1102 hrs ISTSushil Kumar ready for trials, but is WFI?3 Jul 2019, 1204 hrs IST\\n                MORE \\n                More sports NEWS\\n                ENTERTAINMENT NEWSHindiVicky Kaushal shares a video of himself riding horse named Puja3 Jul 2019, 2253 hrs ISTAmitabh Bachchan sends best wishes for Rishi Kapoor\\'s new film3 Jul 2019, 2227 hrs ISTPriyanka Chopra talks about Meghan Markle, Sophie Turner and sisterhood3 Jul 2019, 2143 hrs IST\\n                MORE \\n                Hindi NEWS\\n                EnglishShoplifters3 Jul 2019, 2147 hrs ISTShoplifters3 Jul 2019, 2157 hrs ISTWill Gamora make a comeback in ‘Guardians of Galaxy Vol 3’? Zoe Saldana drops hints3 Jul 2019, 1901 hrs IST\\n                MORE \\n                English NEWS\\n                TamilVishal begins shooting for his next with director Sundar C3 Jul 2019, 1838 hrs ISTI knew Jiivi had all elements to steal the show as soon as I heard the script: Rohini3 Jul 2019, 1821 hrs ISTRJ Balaji openly trolls Sanjay Manjrekar during live commentary3 Jul 2019, 1706 hrs IST\\n                MORE \\n                Tamil NEWS\\n                TeluguEvelyn Sharma on fire! These hot poses of the ‘Saaho’ bombshell will leave you craving for more3 Jul 2019, 1843 hrs ISTPuri Jagannadh and Ram Pothineni\\'s \\'iSmart Shankar\\' trailer is here3 Jul 2019, 1812 hrs IST\\'Psycho Saiyaan\\' from Prabhas and Shraddha Kapoor\\'s \\'Saaho\\' to be out soon!3 Jul 2019, 1705 hrs IST\\n                MORE \\n                Telugu NEWS\\n                MalayalamPriya Kunchacko Boban\\'s \\'baptism\\' outfit had a special message for her tiny tot Izahaak3 Jul 2019, 1832 hrs ISTTovino Thomas tries the Tibetan singing bowl!3 Jul 2019, 1804 hrs ISTUse social media to inspire society: Unni Mukundan3 Jul 2019, 1707 hrs IST\\n                MORE \\n                Malayalam NEWS\\n                LIFE & STYLE NEWSRelationshipsWhen words hurt more than stones!3 Jul 2019, 2200 hrs ISTThe concept of four-day work weeks now a reality!3 Jul 2019, 1806 hrs ISTBeware! People with these personality traits can become manipulative partners3 Jul 2019, 1245 hrs IST\\n                MORE \\n                Relationships NEWS\\n                Health & FitnessHere’s how keto diet affects your sex drive3 Jul 2019, 2100 hrs ISTKatrina Kaif\\'s workout routine at 36 is better than a 24-year-old!3 Jul 2019, 1900 hrs ISTOne food men should eat every day and one they shouldn\\'t!3 Jul 2019, 1715 hrs IST\\n                MORE \\n                Health & Fitness NEWS\\n                BeautyHina Khan\\'s hair accessory is perfect for summers!3 Jul 2019, 1000 hrs ISTHave you tried a bath bomb, yet?2 Jul 2019, 1440 hrs ISTWant those ‘rainbow star’ or ‘Snow Queen’ nails?2 Jul 2019, 1218 hrs IST\\n                MORE \\n                Beauty NEWS\\n                SpotlightTarika and Vaishakh’s short film crosses 11K views in a month3 Jul 2019, 1854 hrs ISTFrance returns stolen ancient artifacts to Pakistan3 Jul 2019, 2000 hrs ISTFrom John Mayer to Akshay Kumar, everyone is trying the new #BottleCapChallenge3 Jul 2019, 1635 hrs IST\\n                MORE \\n                Spotlight NEWS\\n                BooksLovejoy series to get a reboot3 Jul 2019, 1836 hrs ISTMicro review: \\'The Oracle\\' by Clive Cussler and Robin Burcell3 Jul 2019, 1832 hrs ISTBooks on nature and travel writing to read in 20193 Jul 2019, 1244 hrs IST\\n                MORE \\n                Books NEWS\\n                Home & GardenBreathing clean air is the new cool!27 Jun 2019, 1533 hrs ISTWays to stay safe from indoor air pollution27 Jun 2019, 1531 hrs ISTDecor trend alert: Boho Chic27 Jun 2019, 1406 hrs IST\\n                MORE \\n                Home & Garden NEWS\\n                FashionDia Mirza wore the most beautiful ivory lehenga for a wedding shoot3 Jul 2019, 1800 hrs ISTThis bride wore a sky blue lehenga for her day wedding3 Jul 2019, 1530 hrs ISTMalaika Arora and Shraddha Kapoor flaunted the same sexy banjara jacket: Who wore it better?3 Jul 2019, 1402 hrs IST\\n                MORE \\n                Fashion NEWS\\n                \\n\\t\\t            (function(){\\n\\t\\t                var ctn_config = {};\\n\\t\\t                ctn_config[\\'adele\\'] = \\'ul\\';\\n\\t\\t                ctn_config[\\'adid\\'] = \\'233533\\';\\n\\t\\t                ctn_config[\\'adpos\\'] = \\'.news-list2 div:nth-child(8n-4)\\';\\n\\t\\t                ctn_config[\\'adtmpl\\'] = \\'ctn_card\\';\\n\\t\\t                ctn_config[\\'callback\\'] = \\'processCtnAds\\';\\n\\t\\t                ctn_config[\\'desclen\\'] = \\'110\\';\\n\\t\\t                ctn_config[\\'msid\\'] = \\'\\';\\n\\t\\t                ctn_config[\\'position\\'] = \\'\\';\\n\\t\\t                \\n\\t\\t                \\n\\t\\t                \\n\\t\\t                $(ctn_config[\\'adpos\\']).each(function(){\\n\\t\\t                \\n\\t\\t                    \\n\\t\\t                    ctn_config[\\'position\\'] = $(\\'[data-slot=\"\\'+ctn_config.adid+\\'\"]\\').length + 1;\\n\\t\\t                    \\n\\t\\t                \\n\\t\\t                    var ctnEle = $(\\'<\\'+ctn_config[\\'adele\\']+\\'>\\');\\n                   \\n    \\t\\t                ctnEle.attr(\\'class\\',\\'ad clearfix colombia \\');\\n    \\t\\t                ctnEle.attr(\\'data-slot\\', ctn_config[\\'adid\\']);\\n    \\t\\t                ctnEle.attr(\\'data-msid\\', ctn_config[\\'msid\\']);\\n    \\t\\t                ctnEle.attr(\\'data-position\\', ctn_config[\\'position\\']);\\n    \\t\\t                ctnEle.attr(\\'data-native-tmpl\\', ctn_config[\\'adtmpl\\']);\\n    \\t\\t                ctnEle.attr(\\'data-cb\\', ctn_config[\\'callback\\']);\\n    \\t\\t                ctnEle.attr(\\'data-desc-len\\', ctn_config[\\'desclen\\']);\\n    \\t\\t                ctnEle.attr(\\'id\\', ctn_config[\\'adid\\'] + \\'-\\' +ctn_config[\\'position\\']);\\n    \\t\\t                ctnEle.addClass(\\'news_card\\');\\n    \\t\\t                $(this).after(ctnEle);\\n\\t\\t                });\\n\\t\\t                \\n\\t\\t                \\n\\t\\t            })();\\n\\t\\t        <span class=\"w_tle\"><a target=\"_blank\" pg=\"new_mostPopular_native#~pos~\" href=\"~url~\" title=\"~name~\">~name~</a></span><span class=\"metadata\">\\n        \\t\\tAd: ~brandtext~<i class=\"clmcup\"></i></span><a target=\"_blank\" pg=\"new_mostPopular_native#~pos~\" href=\"~url~\" class=\"w_img\"><img src=\"~sImg~\" pg=\"new_mostPopular_native#~pos~\"></a><span class=\"w_tle\"><a target=\"_blank\" pg=\"new_mostPopular_native#~pos~\" href=\"~url~\" title=\"~name-desc~\">~name~</a></span><span class=\"metadata\">\\n        \\t\\tAd: ~brandtext~<i class=\"clmcup\"></i></span><a target=\"_blank\" pg=\"new_mostPopular_native#~pos~\" href=\"~url~\" class=\"w_img\"><img src=\"~sImg~\" pg=\"new_mostPopular_native#~pos~\"></a><span class=\"w_tle\"><a target=\"_blank\" pg=\"new_mostPopular_native#~pos~\" href=\"~url~\" title=\"~name~\">~name~</a></span><span class=\"w_desc\"><a target=\"_blank\" pg=\"new_mostPopular_native#~pos~\" href=\"~url~\" title=\"~desc~\">~desc~</a></span><span class=\"metadata\">\\n        \\t\\tAd: ~brandtext~<i class=\"clmcup\"></i></span><li><a target=\"_blank\" pg=\"new_mostPopular_native#~pos~\" href=\"~url~\" class=\"w_img hide\"><img src=\"~sImg~\" pg=\"new_mostPopular_native#~pos~\"></a><span class=\"w_tle\"><a target=\"_blank\" pg=\"new_mostPopular_native#~pos~\" href=\"~url~\" title=\"~name-desc~\">~name~</a></span><div class=\"alR\"><span class=\"clmblogo\">Recommended By Colombia\\n                        \\t    <i class=\"clmcup\"></i></span></div></li><li><a target=\"_blank\" pg=\"new_mostPopular_native#~pos~\" href=\"~url~\" class=\"w_img\"><img src=\"~sImg~\" pg=\"new_mostPopular_native#~pos~\"></a><span class=\"w_tle\"><a target=\"_blank\" pg=\"new_mostPopular_native#~pos~\" href=\"~url~\" title=\"~name-desc~\">~name~</a></span><span class=\"metadata\">\\n        \\t\\tAd: ~brandtext~<i class=\"clmcup\"></i></span></li><li class=\"clearfix\"><a class=\"w_img\" title=\"~name~\" href=\"~url~\" pg=\"RHS#AcrossWeb#~pg-tag~\"><img src=\"~sImg~\" pg=\"RHS#AcrossWeb#~pg-tag~\"><span pg=\"RHS#AcrossWeb#~pg-tag~\" class=\"desc\">~name~</span><span class=\"ad_brand\">~brandtext~</span></a></li><li class=\"clearfix\"><a class=\"w_img\" title=\"~name~\" href=\"~url~\" pg=\"RHS#AcrossTOI#~pg-tag~\"><img src=\"~sImg~\" pg=\"RHS#AcrossTOI#~pg-tag~\"><span pg=\"RHS#AcrossTOI#~pg-tag~\" class=\"desc\">~name~</span></a></li><li><a target=\"_blank\" pg=\"ctn_belowarticle_paid#~pos~\" href=\"~url~\">~name~</a><span class=\"columbia_meta\">~brandtext~</span></li><li><a target=\"_blank\" pg=\"ctn_belowarticle_organic#~pos~\" href=\"~url~\">~name~</a></li><li class=\"clearfix\"><a pg=\"ctn_belowarticle_2_paid#~pg-tag~\" href=\"~url~\" target=\"_blank\" title=\"~name~\" class=\"ad_img\"><img pg=\"ctn_belowarticle_2_paid#~pg-tag~\" data-src=\"~sImg~\" src=\"~sImg~\"><span class=\"ad_heading\">~name~</span><span class=\"ad_brand\">~brandtext~</span></a></li><li class=\"clearfix\"><a pg=\"ctn_belowarticle_2_organic#~pg-tag~\" href=\"~url~\" target=\"_blank\" title=\"~name~\" class=\"ad_img\"><img pg=\"ctn_belowarticle_2_organic#~pg-tag~\" data-src=\"~sImg~\" src=\"~sImg~\"><span class=\"ad_heading\">~name~</span></a></li>MOST POPULARREADCOMMENTEDSHAREDIN THIS SECTIONENTIRE WEBSITEIndia vs Bangladesh Highlights, World Cup 2019: India beat Bangladesh by 28 runs to qualify for semisIndia vs England Highlights, World Cup 2019: England beat India by 31 runs to remain in semis contentionWorld Cup 2019: MS Dhoni, Kedar Jadhav draw flak for \\'lack of intent\\' during run-chase vs EnglandWorld Cup 2019: Injured Vijay Shankar ruled out, Mayank Agarwal to fly in as replacementMORE POPULAR NEWSwindow.mpsectionid=\\'4772028\\';TOP PHOTOSTORIESKriti Sanon: Interesting statements by the actressKriti Sanon: Interesting statements by the actressBollywood couples who went public with their love affair in 2018Movies to watch on New Year\\'s EveShibani Dandekar\\'s most sizzling pictures\\'Batti Gul Meter Chalu\\': All you need to know about the Shahid Kapoor-Shraddha Kapoor starrerHere\\'s a look at the Television actresses who will be making their Bollywood debut with their upcoming filmsBollywood actors who would be great teachersBollywood actors who resorted to public transportRanveer Singh: Reasons we love the actorLesser known facts about Gurmeet ChoudharyYuvraj Singh-Hazel Keech\\'s love storySizzling pictures of Nimrat Kaur you would not want to missPHOTO GALLERYMahie reveals she is a proud motherMahie reveals she is a proud motherIntimate photos of Anita & her hubbyNew workout pics of Katrina KaifPics: 87-year-old fan blesses KohliBikini pics of TV actress KarishmaMeet the stunning Alankrita SahaiSumeet and Ekta’s Taiwan vacay picsStylish pictures of Tara SutariaZaira quits B\\'wood to follow IslamViral photo shoots of VJ BenafshaIntimate pictures of Charu & RajeevSoundarya trolled amid water crisisAlso InsideIndia NewsNarendra Modi made people believe in country\\'s democratic system: Amit ShahMonth on, Sidhu yet to assume charge of new ministryDon\\'t turn LS into Bengal Vidhan Sabha, says Speaker after BJP, TMC MPs spar over \\'cut money\\' issueWorld News\\n\\t\\t\\t\\t\\t\\t\\t\\t\\tUK\\'s Boris Johnson backs Hong Kong protesters \\'every inch of way\\'Pakistan announces terrorism finance crackdown on LeTTrump orders tanks for July 4 Independence Day parade, critics call it political ployBusiness News\\n\\t\\t\\t\\t\\t\\t\\t\\t\\tRBI to regulate housing finance firms, review assetsBudget 2019: The biggest challenges facing FMAI lost Rs 491 cr due to Pak airspace closureEntertainment News\\n\\t\\t\\t\\t\\t\\t\\t\\t\\tKangana on charges against Aditya PancholiMeezaan dances on ‘Malhari’ with RanveerPC stuns in these pics from a magazine shootLife & Style NewsWhen words hurt more than stones!Here’s how keto diet affects your sex driveRath Yatra Wishes, Messages, Facebook post and Whatsapp StatusNRI NewsIndian killed in hit-and-run collision in USIndian college intern sentenced to 60 months for providing tech support to telemarketing scamIndian national stabbed to death in IsraelEducation NewsRajasthan BSTC result 2019 declared at bstc2019.org, download hereDU second cut-off list 2019: Check college wise list hereRajasthan BSTC result 2019 announced at bstc2019.org; check here\\n\\t\\t            (function(){\\n\\t\\t                var ctn_config = {};\\n\\t\\t                ctn_config[\\'adele\\'] = \\'li\\';\\n\\t\\t                ctn_config[\\'adid\\'] = \\'129838\\';\\n\\t\\t                ctn_config[\\'adpos\\'] = \\'.top-newslist ul li:nth-child(4)\\';\\n\\t\\t                ctn_config[\\'adtmpl\\'] = \\'ctn_text\\';\\n\\t\\t                ctn_config[\\'callback\\'] = \\'processCtnAds\\';\\n\\t\\t                ctn_config[\\'desclen\\'] = \\'110\\';\\n\\t\\t                ctn_config[\\'msid\\'] = \\'\\';\\n\\t\\t                ctn_config[\\'position\\'] = \\'\\';\\n\\t\\t                \\n\\t\\t                \\n\\t\\t                \\n\\t\\t                $(ctn_config[\\'adpos\\']).each(function(){\\n\\t\\t                \\n\\t\\t                    \\n\\t\\t                    ctn_config[\\'position\\'] = $(\\'[data-slot=\"\\'+ctn_config.adid+\\'\"]\\').length + 1;\\n\\t\\t                    \\n\\t\\t                \\n\\t\\t                    var ctnEle = $(\\'<\\'+ctn_config[\\'adele\\']+\\'>\\');\\n                   \\n    \\t\\t                ctnEle.attr(\\'class\\',\\'ad clearfix colombia \\');\\n    \\t\\t                ctnEle.attr(\\'data-slot\\', ctn_config[\\'adid\\']);\\n    \\t\\t                ctnEle.attr(\\'data-msid\\', ctn_config[\\'msid\\']);\\n    \\t\\t                ctnEle.attr(\\'data-position\\', ctn_config[\\'position\\']);\\n    \\t\\t                ctnEle.attr(\\'data-native-tmpl\\', ctn_config[\\'adtmpl\\']);\\n    \\t\\t                ctnEle.attr(\\'data-cb\\', ctn_config[\\'callback\\']);\\n    \\t\\t                ctnEle.attr(\\'data-desc-len\\', ctn_config[\\'desclen\\']);\\n    \\t\\t                ctnEle.attr(\\'id\\', ctn_config[\\'adid\\'] + \\'-\\' +ctn_config[\\'position\\']);\\n    \\t\\t                ctnEle.addClass(\\'\\');\\n    \\t\\t                $(this).after(ctnEle);\\n\\t\\t                });\\n\\t\\t                \\n\\t\\t                \\n\\t\\t            })();\\n\\t\\t        <span class=\"w_tle\"><a target=\"_blank\" pg=\"new_mostPopular_native#~pos~\" href=\"~url~\" title=\"~name~\">~name~</a></span><span class=\"metadata\">\\n        \\t\\tAd: ~brandtext~<i class=\"clmcup\"></i></span><a target=\"_blank\" pg=\"new_mostPopular_native#~pos~\" href=\"~url~\" class=\"w_img\"><img src=\"~sImg~\" pg=\"new_mostPopular_native#~pos~\"></a><span class=\"w_tle\"><a target=\"_blank\" pg=\"new_mostPopular_native#~pos~\" href=\"~url~\" title=\"~name-desc~\">~name~</a></span><span class=\"metadata\">\\n        \\t\\tAd: ~brandtext~<i class=\"clmcup\"></i></span><a target=\"_blank\" pg=\"new_mostPopular_native#~pos~\" href=\"~url~\" class=\"w_img\"><img src=\"~sImg~\" pg=\"new_mostPopular_native#~pos~\"></a><span class=\"w_tle\"><a target=\"_blank\" pg=\"new_mostPopular_native#~pos~\" href=\"~url~\" title=\"~name~\">~name~</a></span><span class=\"w_desc\"><a target=\"_blank\" pg=\"new_mostPopular_native#~pos~\" href=\"~url~\" title=\"~desc~\">~desc~</a></span><span class=\"metadata\">\\n        \\t\\tAd: ~brandtext~<i class=\"clmcup\"></i></span><li><a target=\"_blank\" pg=\"new_mostPopular_native#~pos~\" href=\"~url~\" class=\"w_img hide\"><img src=\"~sImg~\" pg=\"new_mostPopular_native#~pos~\"></a><span class=\"w_tle\"><a target=\"_blank\" pg=\"new_mostPopular_native#~pos~\" href=\"~url~\" title=\"~name-desc~\">~name~</a></span><div class=\"alR\"><span class=\"clmblogo\">Recommended By Colombia\\n                        \\t    <i class=\"clmcup\"></i></span></div></li><li><a target=\"_blank\" pg=\"new_mostPopular_native#~pos~\" href=\"~url~\" class=\"w_img\"><img src=\"~sImg~\" pg=\"new_mostPopular_native#~pos~\"></a><span class=\"w_tle\"><a target=\"_blank\" pg=\"new_mostPopular_native#~pos~\" href=\"~url~\" title=\"~name-desc~\">~name~</a></span><span class=\"metadata\">\\n        \\t\\tAd: ~brandtext~<i class=\"clmcup\"></i></span></li><li class=\"clearfix\"><a class=\"w_img\" title=\"~name~\" href=\"~url~\" pg=\"RHS#AcrossWeb#~pg-tag~\"><img src=\"~sImg~\" pg=\"RHS#AcrossWeb#~pg-tag~\"><span pg=\"RHS#AcrossWeb#~pg-tag~\" class=\"desc\">~name~</span><span class=\"ad_brand\">~brandtext~</span></a></li><li class=\"clearfix\"><a class=\"w_img\" title=\"~name~\" href=\"~url~\" pg=\"RHS#AcrossTOI#~pg-tag~\"><img src=\"~sImg~\" pg=\"RHS#AcrossTOI#~pg-tag~\"><span pg=\"RHS#AcrossTOI#~pg-tag~\" class=\"desc\">~name~</span></a></li><li><a target=\"_blank\" pg=\"ctn_belowarticle_paid#~pos~\" href=\"~url~\">~name~</a><span class=\"columbia_meta\">~brandtext~</span></li><li><a target=\"_blank\" pg=\"ctn_belowarticle_organic#~pos~\" href=\"~url~\">~name~</a></li><li class=\"clearfix\"><a pg=\"ctn_belowarticle_2_paid#~pg-tag~\" href=\"~url~\" target=\"_blank\" title=\"~name~\" class=\"ad_img\"><img pg=\"ctn_belowarticle_2_paid#~pg-tag~\" data-src=\"~sImg~\" src=\"~sImg~\"><span class=\"ad_heading\">~name~</span><span class=\"ad_brand\">~brandtext~</span></a></li><li class=\"clearfix\"><a pg=\"ctn_belowarticle_2_organic#~pg-tag~\" href=\"~url~\" target=\"_blank\" title=\"~name~\" class=\"ad_img\"><img pg=\"ctn_belowarticle_2_organic#~pg-tag~\" data-src=\"~sImg~\" src=\"~sImg~\"><span class=\"ad_heading\">~name~</span></a></li>Trending TopicsCricket NewsKarnataka electionsIndia vs AfghanistanLive Cricket ScoreFIFA World Cup 2018FIFA points tableFIFA scheduleCricket newsFootball2018 World Cup scheduleMI Team 2018WWE Raw resultsIPL Schedule 2018Tweets by TOITopStories   \\n            .video-overlay-wrapper .playlist ul.cvs_wdt li:after, .expand-overlay .playlist ul li:after{width: calc(100% + 20px); height: calc(100% + 20px); left: -10px; top: -10px;}\\n        Other Times Group news sitesThe Economic Times Mumbai Mirror IGN India Hindi Economic TimesTimes Now I am GujaratPune Mirror Tamil SamayamBangalore Mirror Maharashtra TimesTelugu SamayamAhmedabad Mirror Go Green Miss Kyra ItsMyAscent Navbharat TimesEducation Times FILMIPOP Hindi Brand Capital Eisamay Indiatimes Gujarati Economic TimesVijaya KarnatakaMalayalam SamayamTimes FoodGames AppMX PlayerTimesPointsLiving and entertainmentiDiva MensXP.com Femina ETimesGrazia Zoom Travel Destinations Bombay Times Cricbuzz.com Filmfare Online Songs TVLife & Style Longwalks AppNewspaper SubscriptionFood NewsTimes Primetop trendsRavindra JadejaWest BengalRahul GandhiMumbai RainsNarendra ModiMS DhoniAmbati RayuduAkash VijayvargiyaBSTC Result 2019England vs New ZealandLive Cricket ScoreWBJEE Counselling ResultDU Second Cut OffBudget 2019NewsWC Points Table 2019World Cup 2019 ScheduleHoroscope todayservicesAds 2 BookBank Exam AppET Money Finance AppCouponDuniaDineoutMagicbricksTechgigTimes JobsBollywood NewsTimes MobileBuy CarRemit 2 IndiaTC NextBikes in IndiaUsed CarsAstro SpeakGadgets NowCareersPopular CategoriesHeadlinesSports NewsBusiness NewsIndia NewsWorld NewsBollywood NewsHealth & Fitness TipsIndian TV ShowsCelebrity Photoshot on the webPriyanka ChopraJacqueline FernandezKatrina KaifMahie GillPriyanka and NickBhagyashreeHrithik RoshanMalaika AroraVirat KohliTrending topicsBhagyashree\\'s husbandSidharth MalhotraNafisa AliRhea ChakrabortyShilpa ShettySunil GroverRanveer SinghKabir SinghKangana RanautAkshay KumarWeight LossSamsungRedmi Note 7 ProRealme XLG W SeriesBSNL Data OfferVivo Z1 ProFollow us onfacebooktwitterrss feedyoutubedownload toi appandroidiphoneBlackBerryipadwindows phoneAbout us Create Your Own Ad Terms of Use and Grievance Redressal Policy Privacy policy Advertise with us RSS Newsletter Feedback ePaper Sitemap Archives \\n                \\n                    <span class=\"temp_h\">\\n                    {{if cityName}}\\n                             {{:cityName}}\\n                    {{/if}}\\n                    </span>\\n                    <span class=\"temp_g\">\\n                        <a href=\"/weather/city-{{:cityName}}.cms\" target=\"_blank\">\\n                            <span class=\"icon {{:iconClass}}\"></span>\\n                            <span class=\"temp\">\\n                                <span class=\"wdC\">{{:tempC}}&#xB0;<small>C</small></span>\\n                                <span class=\"wdF\">{{:tempF}}&#xB0;F</span>\\n                            </span>\\n                        </a>\\n                    </span>\\n                    <span class=\"optionshome\">\\n                        <a pg=\"#Change-Fahrenheit~Header-Weather\" onclick=\"$(\\'.wdF\\').hide();$(\\'.wdC\\').show();$(\\'#wdCid\\').hide();$(\\'#wdFid\\').show();\" style=\"cursor: pointer; display: none;\" id=\"wdCid\">°C</a>\\n                        <a pg=\"#Change-Celcius~Header-Weather\" onclick=\"$(\\'.wdC\\').hide();$(\\'.wdF\\').show();$(\\'#wdFid\\').hide();$(\\'#wdCid\\').show();\" style=\"cursor: pointer;\" id=\"wdFid\">&#xB0;F</a>\\n                    </span>\\n                    <a href=\"/weather.cms\" target=\"_blank\" class=\"arrow\" pg=\"#Click~Header-Weather\">»</a>\\n                \\n            Copyright © 2019 Bennett, Coleman & Co. Ltd. All rights reserved. For reprint rights: Times Syndication ServiceMore from our networkTamil NewsTelugu NewsKannada NewsMalayalam NewsET MobileIndiatimesTimes JobsFolloGreetZapAliveActive WorldZigWheelsMagicbricksAds 2 BookAstrospeakNavbharat TimesLongwalks AppHot on the webPriyanka ChopraJacqueline FernandezKatrina KaifMahie GillPriyanka and NickBhagyashreeTrending topicsBhagyashree\\'s husbandSidharth MalhotraNafisa AliRhea ChakrabortyShilpa ShettySunil GroverRanveer SinghKabir SinghKangana RanautAbout usTerms of useCopyright © 2019 Bennett, Coleman & Co. Ltd. All rights reserved.For reprint rights: Times Syndication Service\\n\\t\\t\\tvar secname = \\'\\' || \"\";\\n            var agename=\\'\\' || \"\";\\n            \\n            var chartbeatObj = {\\n                uid:10538,\\n                domain:\"timesofindia.indiatimes.com\",\\n                sections: secname,\\n                authors: agename\\n            }\\n\\t\\t\\twindow._sf_async_config = window._sf_async_config || {};\\n\\t\\t\\twindow._sf_async_config.autoDetect = false;\\n\\t\\t\\twindow._sf_async_config.uid = window._sf_async_config.uid || chartbeatObj.uid;\\n\\t\\t\\twindow._sf_async_config.domain = window._sf_async_config.domain || chartbeatObj.domain;\\n\\t\\t\\twindow._sf_async_config.sections = window._sf_async_config.sections || chartbeatObj.sections;\\n\\t\\t\\twindow._sf_async_config.authors = window._sf_async_config.authors || chartbeatObj.authors;\\n\\n            window._sf_endpt=(new Date()).getTime();\\n\\t\\t\\t\\n\\t\\t\\n        $(function() {\\n            $(\\'.mobilenavimg\\').click(function() {\\n                $(\\'#navigation\\').find(\\'.level-one\\').slideToggle();\\n                $(this).toggleClass(\\'active\\');\\n            });\\n            $(\\'.mob_subNav\\').click(function() {\\n                $(this).siblings().removeClass(\\'current\\');\\n                $(this).siblings().find(\\'ul\\').slideUp();\\n                $(this).addClass(\\'current\\');\\n                $(this).find(\\'ul\\').slideDown();\\n            });\\n            $(window).resize(function() {\\n                if($(window).width() > 767){$(\".level-one\").show(); $(\".mob_subNav_val\").hide();}\\n            });\\n        });\\n    '"
            ]
          },
          "metadata": {
            "tags": []
          },
          "execution_count": 48
        }
      ]
    },
    {
      "cell_type": "code",
      "metadata": {
        "id": "jmdD3aRwHMIR",
        "colab_type": "code",
        "colab": {}
      },
      "source": [
        "#converting into list\n",
        "new_data=[i for i in clean_data.split()]"
      ],
      "execution_count": 0,
      "outputs": []
    },
    {
      "cell_type": "code",
      "metadata": {
        "id": "tu8225PRrmhO",
        "colab_type": "code",
        "colab": {
          "base_uri": "https://localhost:8080/",
          "height": 34
        },
        "outputId": "ac664c9b-d898-4b89-de10-09543646d68a"
      },
      "source": [
        "type(new_data)"
      ],
      "execution_count": 50,
      "outputs": [
        {
          "output_type": "execute_result",
          "data": {
            "text/plain": [
              "list"
            ]
          },
          "metadata": {
            "tags": []
          },
          "execution_count": 50
        }
      ]
    },
    {
      "cell_type": "code",
      "metadata": {
        "id": "-s2GwmTErwMs",
        "colab_type": "code",
        "colab": {
          "base_uri": "https://localhost:8080/",
          "height": 67
        },
        "outputId": "6f000cf0-0556-43dc-deb9-179b29f6b2b4"
      },
      "source": [
        "#importing nltk\n",
        "import nltk\n",
        "import matplotlib.pyplot as plt\n",
        "nltk.download('stopwords')"
      ],
      "execution_count": 51,
      "outputs": [
        {
          "output_type": "stream",
          "text": [
            "[nltk_data] Downloading package stopwords to /root/nltk_data...\n",
            "[nltk_data]   Package stopwords is already up-to-date!\n"
          ],
          "name": "stdout"
        },
        {
          "output_type": "execute_result",
          "data": {
            "text/plain": [
              "True"
            ]
          },
          "metadata": {
            "tags": []
          },
          "execution_count": 51
        }
      ]
    },
    {
      "cell_type": "code",
      "metadata": {
        "id": "227J78FisRes",
        "colab_type": "code",
        "colab": {}
      },
      "source": [
        "nl_data=nltk.FreqDist(new_data)"
      ],
      "execution_count": 0,
      "outputs": []
    },
    {
      "cell_type": "code",
      "metadata": {
        "id": "RYBmYAc2tDZR",
        "colab_type": "code",
        "colab": {
          "base_uri": "https://localhost:8080/",
          "height": 303
        },
        "outputId": "0a4f82d9-1344-40d8-c5b9-97442cdbc01b"
      },
      "source": [
        "nl_data.plot(10)"
      ],
      "execution_count": 53,
      "outputs": [
        {
          "output_type": "display_data",
          "data": {
            "image/png": "[encoded data removed]",
            "text/plain": [
              "<Figure size 432x288 with 1 Axes>"
            ]
          },
          "metadata": {
            "tags": []
          }
        }
      ]
    },
    {
      "cell_type": "code",
      "metadata": {
        "id": "9JZAmuuytI9J",
        "colab_type": "code",
        "colab": {
          "base_uri": "https://localhost:8080/",
          "height": 67
        },
        "outputId": "732b88d4-1747-46bd-dae5-d25f4f03e5e7"
      },
      "source": [
        "from nltk.tokenize import sent_tokenize\n",
        "from nltk.tokenize import word_tokenize\n",
        "import nltk\n",
        "nltk.download('punkt')"
      ],
      "execution_count": 54,
      "outputs": [
        {
          "output_type": "stream",
          "text": [
            "[nltk_data] Downloading package punkt to /root/nltk_data...\n",
            "[nltk_data]   Package punkt is already up-to-date!\n"
          ],
          "name": "stdout"
        },
        {
          "output_type": "execute_result",
          "data": {
            "text/plain": [
              "True"
            ]
          },
          "metadata": {
            "tags": []
          },
          "execution_count": 54
        }
      ]
    },
    {
      "cell_type": "code",
      "metadata": {
        "id": "mUT5t-HDvCCo",
        "colab_type": "code",
        "colab": {}
      },
      "source": [
        "sent=sent_tokenize(clean_data)"
      ],
      "execution_count": 0,
      "outputs": []
    },
    {
      "cell_type": "code",
      "metadata": {
        "id": "ZOEK72Q_vXcK",
        "colab_type": "code",
        "colab": {}
      },
      "source": [
        "word=word_tokenize(clean_data)"
      ],
      "execution_count": 0,
      "outputs": []
    },
    {
      "cell_type": "code",
      "metadata": {
        "id": "ZF9sRmMrvpm3",
        "colab_type": "code",
        "colab": {}
      },
      "source": [
        "nl_word=nltk.FreqDist(word)"
      ],
      "execution_count": 0,
      "outputs": []
    },
    {
      "cell_type": "code",
      "metadata": {
        "id": "lvbmPX2YwDNh",
        "colab_type": "code",
        "colab": {
          "base_uri": "https://localhost:8080/",
          "height": 298
        },
        "outputId": "03c82dc3-4779-4c07-b990-9cc6dac41046"
      },
      "source": [
        "nl_word.plot(10)"
      ],
      "execution_count": 58,
      "outputs": [
        {
          "output_type": "display_data",
          "data": {
            "image/png": "[encoded data removed]",
            "text/plain": [
              "<Figure size 432x288 with 1 Axes>"
            ]
          },
          "metadata": {
            "tags": []
          }
        }
      ]
    },
    {
      "cell_type": "code",
      "metadata": {
        "id": "TqixokJgwGx-",
        "colab_type": "code",
        "colab": {}
      },
      "source": [
        "from nltk.corpus import stopwords"
      ],
      "execution_count": 0,
      "outputs": []
    },
    {
      "cell_type": "code",
      "metadata": {
        "id": "tSnlr5FXwt4W",
        "colab_type": "code",
        "colab": {}
      },
      "source": [
        "new_words=[i for i in nl_word if i.lower() not in stopwords.words('english')]"
      ],
      "execution_count": 0,
      "outputs": []
    },
    {
      "cell_type": "code",
      "metadata": {
        "id": "GzmcavJKyajr",
        "colab_type": "code",
        "colab": {
          "base_uri": "https://localhost:8080/",
          "height": 34
        },
        "outputId": "a25b69a0-793b-44a7-bddf-5133029cd543"
      },
      "source": [
        "nlp_words=nltk.FreqDist(new_words)\n",
        "type(nlp_words)"
      ],
      "execution_count": 61,
      "outputs": [
        {
          "output_type": "execute_result",
          "data": {
            "text/plain": [
              "nltk.probability.FreqDist"
            ]
          },
          "metadata": {
            "tags": []
          },
          "execution_count": 61
        }
      ]
    },
    {
      "cell_type": "code",
      "metadata": {
        "id": "nH2SyKK8y7jY",
        "colab_type": "code",
        "colab": {
          "base_uri": "https://localhost:8080/",
          "height": 337
        },
        "outputId": "be5dcd19-1d4e-474b-c244-153e8ce82e11"
      },
      "source": [
        "nlp_words.plot(10)"
      ],
      "execution_count": 62,
      "outputs": [
        {
          "output_type": "display_data",
          "data": {
            "image/png": "[encoded data removed]",
            "text/plain": [
              "<Figure size 432x288 with 1 Axes>"
            ]
          },
          "metadata": {
            "tags": []
          }
        }
      ]
    },
    {
      "cell_type": "code",
      "metadata": {
        "id": "uADBe3LbzAEh",
        "colab_type": "code",
        "colab": {}
      },
      "source": [
        "#performing stemming\n",
        "from nltk.stem import PorterStemmer "
      ],
      "execution_count": 0,
      "outputs": []
    },
    {
      "cell_type": "code",
      "metadata": {
        "id": "paHYWb4cz-60",
        "colab_type": "code",
        "colab": {}
      },
      "source": [
        "stemm_data=PorterStemmer()"
      ],
      "execution_count": 0,
      "outputs": []
    },
    {
      "cell_type": "code",
      "metadata": {
        "id": "Up7EOVXZ0LBn",
        "colab_type": "code",
        "colab": {
          "base_uri": "https://localhost:8080/",
          "height": 34
        },
        "outputId": "77bee152-93cf-425a-9fbb-8e1124003fd9"
      },
      "source": [
        "stemmed_data=[]\n",
        "for i in new_data :\n",
        "   stemmed_data.append(stemm_data.stem(i))\n",
        " \n",
        "str1 = ''.join(stemmed_data)\n",
        "type(str1)"
      ],
      "execution_count": 65,
      "outputs": [
        {
          "output_type": "execute_result",
          "data": {
            "text/plain": [
              "str"
            ]
          },
          "metadata": {
            "tags": []
          },
          "execution_count": 65
        }
      ]
    },
    {
      "cell_type": "code",
      "metadata": {
        "id": "cRbPe2VH0o_B",
        "colab_type": "code",
        "colab": {}
      },
      "source": [
        "#saving the stemmed data into a file \n",
        "with open('news_scraping.txt','w+') as f:\n",
        "  f.write(str1)\n",
        "\n",
        "  "
      ],
      "execution_count": 0,
      "outputs": []
    },
    {
      "cell_type": "code",
      "metadata": {
        "id": "vb1qaFbe3TRB",
        "colab_type": "code",
        "colab": {}
      },
      "source": [
        "#THANK YOU  😀😀😀😀😀😀😀😀😀😀😀😀"
      ],
      "execution_count": 0,
      "outputs": []
    }
  ]
}